{
 "cells": [
  {
   "cell_type": "code",
   "execution_count": null,
   "metadata": {},
   "outputs": [],
   "source": [
    "using Pkg\n",
    "\n",
    "#Pkg.add(\"DataFrames\")\n",
    "#Pkg.add(\"Plots\")\n",
    "#Pkg.add(\"CSV\")\n",
    "\n",
    "import DataFrames\n",
    "import Plots\n",
    "import CSV"
   ]
  },
  {
   "cell_type": "code",
   "execution_count": null,
   "metadata": {},
   "outputs": [],
   "source": [
    "\n",
    "df = CSV.read(\"../dat/2024-01-23_14-15-08/output.csv\", DataFrames.DataFrame)\n",
    "#print(df)\n",
    "\n",
    "Plots.scatter(\n",
    "    df.T_total,\n",
    "    df.V_Max,\n",
    "    title = \"Validation scores\",\n",
    "    ylabel = \"V_Max\",\n",
    "    xlabel = \"T_total\",\n",
    ")\n",
    "#Plots.savefig(\"t3validation.pdf\")"
   ]
  },
  {
   "cell_type": "code",
   "execution_count": null,
   "metadata": {},
   "outputs": [],
   "source": [
    "pwd()\n",
    "#cd(\"../logs/2024-02-05_15-37-53/\")\n",
    "pwd()\n",
    "#ls()\n",
    "stat(\"training_data.csv\")"
   ]
  },
  {
   "cell_type": "code",
   "execution_count": null,
   "metadata": {},
   "outputs": [],
   "source": [
    "cd(\"scripts\")"
   ]
  },
  {
   "cell_type": "code",
   "execution_count": null,
   "metadata": {},
   "outputs": [],
   "source": [
    "\n",
    "print(pwd())\n",
    "df = CSV.read(\"../logs/2024-02-05_15-37-53/training_data.csv\", DataFrames.DataFrame)\n",
    "#print(df)\n",
    "\n",
    "Plots.scatter(\n",
    "    df.T_total,\n",
    "    df.V_Max,\n",
    "    title = \"Validation scores\",\n",
    "    ylabel = \"V_Max\",\n",
    "    xlabel = \"T_total\",\n",
    ")"
   ]
  },
  {
   "cell_type": "code",
   "execution_count": null,
   "metadata": {},
   "outputs": [],
   "source": [
    "\n",
    "print(pwd())\n",
    "df = CSV.read(\"../logs/2024-02-05_15-37-53/training_data.csv\", DataFrames.DataFrame)\n",
    "\n",
    "Plots.scatter(\n",
    "    df.T_total,\n",
    "    df.T_Max,\n",
    "    title = \"Training scores\",\n",
    "    ylabel = \"T_Max\",\n",
    "    xlabel = \"T_total\",\n",
    ")"
   ]
  },
  {
   "cell_type": "code",
   "execution_count": null,
   "metadata": {},
   "outputs": [],
   "source": [
    "function training_data_analysis(path_file)\n",
    "    df = CSV.read(\"../logs/2024-02-05_15-37-53/training_data.csv\", DataFrames.DataFrame)\n",
    "\n",
    "    Plots.scatter(\n",
    "        df.T_total,\n",
    "        df.T_Max,\n",
    "        title = \"Training scores\",\n",
    "        ylabel = \"T_Max\",\n",
    "        xlabel = \"T_total\",\n",
    "    )"
   ]
  },
  {
   "cell_type": "code",
   "execution_count": null,
   "metadata": {},
   "outputs": [],
   "source": [
    "training_data_file = \"training_data.csv\"\n",
    "\n",
    "path_log_directories = readdir(abspath(\"../logs\"), join=true, sort=false) \n",
    "for path_log_directory in path_log_directories\n",
    "    #println(path_log_directory)\n",
    "    content_log_directory = readdir(abspath(path_log_directory))\n",
    "    #print(typeof(content_log_directory))\n",
    "    if training_data_file in content_log_directory\n",
    "        training_data_analysis(path_log_directory * \"/\" * training_data_file)\n",
    "        validation_data_analysis(path_log_directory * \"/\" * training_data_file)\n",
    "    else \n",
    "        println(\"File not found: training_data.csv in folder:\" * path_log_directory)\n",
    "    end\n",
    "end"
   ]
  },
  {
   "cell_type": "code",
   "execution_count": null,
   "metadata": {},
   "outputs": [],
   "source": [
    "df = CSV.read(\"test.csv\", DataFrames.DataFrame)\n",
    "for i, m in df.groupby(\"Measurement\")\n",
    "    ax.plot(m.Time, m.Mean)\n",
    "    ax.fill_between(m.Time, m.Mean - m.Std, m.Mean + m.Std, alpha=0.35)"
   ]
  },
  {
   "cell_type": "code",
   "execution_count": null,
   "metadata": {},
   "outputs": [],
   "source": [
    "using Plots\n",
    "\n",
    "xs = range(1,100, step=1)\n",
    "println(xs)\n",
    "μs = log.(xs)\n",
    "println(μs)\n",
    "\n",
    "σs = rand(length(xs))\n",
    "println(σs)\n",
    "\n",
    "plot(xs,μs,grid=false,ribbon=σs,fillalpha=.5)"
   ]
  },
  {
   "cell_type": "code",
   "execution_count": null,
   "metadata": {},
   "outputs": [],
   "source": [
    "print(rand(2))"
   ]
  },
  {
   "cell_type": "code",
   "execution_count": null,
   "metadata": {},
   "outputs": [],
   "source": [
    "using Plots\n",
    "using CSV\n",
    "using DataFrames\n",
    "\n",
    "# Read the data from the CSV file\n",
    "df = CSV.read(\"../logs/2024-02-05_15-37-53/training_data.csv\", DataFrame)\n",
    "\n",
    "# Extract relevant columns\n",
    "Gen = df.Gen\n",
    "T_Avg = df.T_Avg\n",
    "T_Max = df.T_Max\n",
    "T_Min = df.T_Min\n",
    "\n",
    "# Plotting the data\n",
    "p = plot(Gen, T_Avg, xlabel=\"Generation\", \n",
    "ylabel=\"Average Fitness\", \n",
    "label=\"Average Fitness over Training\", grid=false, \n",
    "legend=:bottomright, lw=3)\n",
    "xlims!(0, maximum(Gen))\n",
    "ylims!(minimum(T_Min), 0)\n",
    "\n",
    "print(df)"
   ]
  },
  {
   "cell_type": "code",
   "execution_count": null,
   "metadata": {},
   "outputs": [],
   "source": [
    "x = collect(range(0, 2, length= 100))\n",
    "y1 = exp.(x)\n",
    "y2 = exp.(1.3 .* x)\n",
    "\n",
    "plot(x, y1, fillrange = y2, fillalpha = 0.35, c = 1, label = \"Confidence band\", legend = :topleft)"
   ]
  },
  {
   "cell_type": "code",
   "execution_count": null,
   "metadata": {},
   "outputs": [],
   "source": [
    "plot!(x,y1, line = :scatter, c = 1, msw = 0, ms = 1.0, label = \"Lower bound\")\n",
    "plot!(x,y2, line = :scatter, c = 1, msw = 0, ms = 1.0, label = \"Upper bound\")"
   ]
  },
  {
   "cell_type": "code",
   "execution_count": null,
   "metadata": {},
   "outputs": [],
   "source": [
    "using Plots\n",
    "using CSV\n",
    "using DataFrames\n",
    "\n",
    "\n",
    "# Create data frames array from CSV files of the different seeds \n",
    "dfs = [ \n",
    "    CSV.read(\"../logs/2024-02-05_15-37-53_copy/training_data.csv\", DataFrame),\n",
    "    CSV.read(\"../logs/2024-02-05_15-37-53_copy/fake_training_data_lower.csv\", DataFrame),\n",
    "    CSV.read(\"../logs/2024-02-05_15-37-53_copy/fake_training_data_higher.csv\", DataFrame) \n",
    "    ]\n",
    "\n",
    "# Check that the number of Gen is the same in each file \n",
    "Gen_ref = dfs[1].Gen\n",
    "for e in dfs\n",
    "    if e.Gen != Gen_ref\n",
    "        throw(error(\"number of Generations is not the same in each data file\"))\n",
    "    end\n",
    "end\n",
    "\n",
    "# Extract the relevant columns, depends on the needs. e.g. Validation Max\n",
    "relevant_data = []\n",
    "for e in dfs\n",
    "    push!(relevant_data, e[!, \"V_Max\"])\n",
    "end\n",
    "\n",
    "# for each seed, the last Gen is considered the reference score value\n",
    "last_scores = [] \n",
    "for e in relevant_data\n",
    "    push!(last_scores, e[Gen_ref[end]])\n",
    "end\n",
    "\n",
    "score_max, i_max = findmax(last_scores)\n",
    "score_min, i_min = findmin(last_scores)\n",
    "\n",
    "mean_scores = []\n",
    "# for each generation\n",
    "for i in Gen_ref[begin]:Gen_ref[end]\n",
    "    # find the mean score of the current generation\n",
    "    mean_i = 0\n",
    "    for e in relevant_data\n",
    "        mean_i += e[i+1] \n",
    "    end \n",
    "    mean_i /= length(relevant_data)\n",
    "    push!(mean_scores, mean_i)\n",
    "end\n",
    "\n",
    "\n",
    "# Plotting the mean of the data\n",
    "p = plot(Gen_ref, mean_scores, xlabel=\"Gen\", ylabel=\"Score\",  \n",
    "grid=false, legend=:bottomright, lw=2)\n",
    "xlims!(0, maximum(Gen_ref))\n",
    "#ylims!(minimum(mean_scores), 0)\n",
    "\n",
    "# Plotting lowest and highest TPG with shade btw them\n",
    "plot!(Gen_ref, relevant_data[i_min], fillrange = relevant_data[i_max], fillalpha = 0.35, c = 1, \n",
    "lw = 0, label = \"Confidence band\", legend = :topleft)\n",
    "plot!(Gen_ref, relevant_data[i_min], line = :scatter, c = 1, msw = 0, ms = 1.0, label = \"Lower bound\")\n",
    "plot!(Gen_ref, relevant_data[i_max], line = :scatter, c = 1, msw = 0, ms = 1.0, label = \"Upper bound\")"
   ]
  },
  {
   "cell_type": "markdown",
   "metadata": {},
   "source": [
    "### Compare multiple curves ###\n",
    "compare time over nbGen to see which training is the longest"
   ]
  }
 ],
 "metadata": {
  "kernelspec": {
   "display_name": "Julia 1.6.7",
   "language": "julia",
   "name": "julia-1.6"
  },
  "language_info": {
   "file_extension": ".jl",
   "mimetype": "application/julia",
   "name": "julia",
   "version": "1.6.7"
  }
 },
 "nbformat": 4,
 "nbformat_minor": 2
}
